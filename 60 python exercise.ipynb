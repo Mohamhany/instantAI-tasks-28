{
 "cells": [
  {
   "cell_type": "markdown",
   "id": "759d04ba",
   "metadata": {},
   "source": [
    "**1-Write a Python program to calculate the length of a string using 2 ways"
   ]
  },
  {
   "cell_type": "code",
   "execution_count": 2,
   "id": "e434c950",
   "metadata": {},
   "outputs": [
    {
     "name": "stdout",
     "output_type": "stream",
     "text": [
      "please enter name:Mohamed\n",
      "7\n"
     ]
    }
   ],
   "source": [
    "name = input(\"please enter name:\")\n",
    "print(len(name))"
   ]
  },
  {
   "cell_type": "code",
   "execution_count": 3,
   "id": "7a2dfa32",
   "metadata": {},
   "outputs": [
    {
     "name": "stdout",
     "output_type": "stream",
     "text": [
      "please enter name:mohamed\n",
      "7\n"
     ]
    }
   ],
   "source": [
    "name = input(\"please enter name:\")\n",
    "count=0\n",
    "for i in name:\n",
    "    count+=1\n",
    "print(count)    \n",
    "pip install -U"
   ]
  },
  {
   "cell_type": "markdown",
   "id": "d7cc9da7",
   "metadata": {},
   "source": [
    "**2-Write a Python program to get a string made of the first 2 and last 2 characters of a given string. If the string length is less than 2, return the empty string instead (\"##Sample String : 'w3resource'\n",
    "Expected Result : 'w3ce'\n",
    "##Sample String : 'w3'\n",
    "Expected Result : 'w3w3'\n",
    "##Sample String : ' w'\n",
    "Expected Result : Empty String)"
   ]
  },
  {
   "cell_type": "code",
   "execution_count": 6,
   "id": "dafa9dd8",
   "metadata": {},
   "outputs": [
    {
     "name": "stdout",
     "output_type": "stream",
     "text": [
      "mohamed\n",
      "moed\n"
     ]
    }
   ],
   "source": [
    "string = input()\n",
    "if len(string)<2:\n",
    "    print(\"\")\n",
    "else:    \n",
    "    print(string[0:2]+string[-2:])"
   ]
  },
  {
   "cell_type": "markdown",
   "id": "1534f956",
   "metadata": {},
   "source": [
    "**3-Write a Python program to add 'ing' at the end of a given string (length should be at least 3). If the given string already ends with 'ing', add 'ly' instead. If the string length of the given string is less than 3, leave it unchanged. (Sample String : 'abc'\n",
    "Expected Result : 'abcing')"
   ]
  },
  {
   "cell_type": "code",
   "execution_count": 10,
   "id": "7ff8cec4",
   "metadata": {},
   "outputs": [
    {
     "name": "stdout",
     "output_type": "stream",
     "text": [
      "playing\n",
      "playly\n"
     ]
    }
   ],
   "source": [
    "name = input()\n",
    "if len(name)<3:\n",
    "    print(name)\n",
    "else:\n",
    "    if name[-3:]==\"ing\":\n",
    "        \n",
    "        print(name[:-3] + \"ly\")\n",
    "    else:\n",
    "        print(name+\"ing\")"
   ]
  },
  {
   "cell_type": "markdown",
   "id": "1c0a6627",
   "metadata": {},
   "source": [
    "**4-Write a Python function that takes a list of words and return the longest word and the length of the longest one\n",
    "(Longest word: Exercises\n",
    "Length of the longest word: 9)"
   ]
  },
  {
   "cell_type": "code",
   "execution_count": 11,
   "id": "397341d9",
   "metadata": {},
   "outputs": [
    {
     "data": {
      "text/plain": [
       "(7, 'mohamed')"
      ]
     },
     "execution_count": 11,
     "metadata": {},
     "output_type": "execute_result"
    }
   ],
   "source": [
    "lis = [\"Ahmed\",\"mohamed\",\"body\",\"Andro\"]\n",
    "def returnword():\n",
    "    max=0\n",
    "    maxword=None\n",
    "    for i in lis:\n",
    "        if len(i)>max:\n",
    "            max=len(i)\n",
    "            maxword=i\n",
    "    return  max , maxword\n",
    "returnword()"
   ]
  },
  {
   "cell_type": "markdown",
   "id": "53a03a6a",
   "metadata": {},
   "source": [
    "**5-Write a Python program to change a given string to a newly string where the first and last chars have been exchanged using 2 ways (Sample String:abca  Expected Result:ebce)"
   ]
  },
  {
   "cell_type": "code",
   "execution_count": 14,
   "id": "fd327d2a",
   "metadata": {},
   "outputs": [
    {
     "name": "stdout",
     "output_type": "stream",
     "text": [
      "mohamed\n",
      "dohamem\n"
     ]
    }
   ],
   "source": [
    "name=input()\n",
    "\n",
    "print(name[-1:] + name[1:-1] + name[:1])"
   ]
  },
  {
   "cell_type": "code",
   "execution_count": null,
   "id": "285788b4",
   "metadata": {},
   "outputs": [],
   "source": []
  },
  {
   "cell_type": "markdown",
   "id": "25f89808",
   "metadata": {},
   "source": [
    "**6-Write a Python program to remove characters that have odd index values in a given string (Sample String:abca Expected Result:ac)"
   ]
  },
  {
   "cell_type": "code",
   "execution_count": 16,
   "id": "05959bd7",
   "metadata": {},
   "outputs": [
    {
     "name": "stdout",
     "output_type": "stream",
     "text": [
      "mohamedhany\n"
     ]
    },
    {
     "data": {
      "text/plain": [
       "'mhmday'"
      ]
     },
     "execution_count": 16,
     "metadata": {},
     "output_type": "execute_result"
    }
   ],
   "source": [
    "name=input()\n",
    "name[0::2]"
   ]
  },
  {
   "cell_type": "markdown",
   "id": "eb16e898",
   "metadata": {},
   "source": [
    "**7-Write a Python program to count the occurrences of each word in a given sentence (Sample String:amr and ahmed are frindes but amr is the tallest Expected Result:2)"
   ]
  },
  {
   "cell_type": "code",
   "execution_count": 22,
   "id": "01ce6cf5",
   "metadata": {},
   "outputs": [
    {
     "name": "stdout",
     "output_type": "stream",
     "text": [
      "amr 2\n",
      "and 1\n",
      "ahmed 1\n",
      "are 1\n",
      "frindes 1\n",
      "but 1\n",
      "amr 2\n",
      "is 1\n",
      "the 1\n",
      "tallest 1\n"
     ]
    }
   ],
   "source": [
    "word=\"amr and ahmed are frindes but amr is the tallest\"\n",
    "word1=word.split()\n",
    "word1\n",
    "for i in word1:\n",
    "    print(i,word.count(i))\n"
   ]
  },
  {
   "cell_type": "markdown",
   "id": "4e8125f1",
   "metadata": {},
   "source": [
    "**8-Write a Python script that takes input from the user and displays that input back in upper and lower cases"
   ]
  },
  {
   "cell_type": "code",
   "execution_count": 23,
   "id": "66c8f778",
   "metadata": {},
   "outputs": [
    {
     "name": "stdout",
     "output_type": "stream",
     "text": [
      "mohamed\n",
      "MOHAMED\n",
      "mohamed\n"
     ]
    }
   ],
   "source": [
    "name = input()\n",
    "print(name.upper())\n",
    "print(name.lower())"
   ]
  },
  {
   "cell_type": "markdown",
   "id": "fcd68aa1",
   "metadata": {},
   "source": [
    "**9-Write a Python function to reverse a string if its length is a multiple of 4"
   ]
  },
  {
   "cell_type": "code",
   "execution_count": 30,
   "id": "0671a931",
   "metadata": {},
   "outputs": [
    {
     "name": "stdout",
     "output_type": "stream",
     "text": [
      "hany\n",
      "ynah\n"
     ]
    }
   ],
   "source": [
    "string=input()\n",
    "def reverse(string):\n",
    "    if len(string) % 4 ==0:\n",
    "        return ''.join(reversed(string))\n",
    "    return string\n",
    "print(reverse(string))"
   ]
  },
  {
   "cell_type": "markdown",
   "id": "b577c68d",
   "metadata": {},
   "source": [
    "**10- Write a Python program to remove a newline in Python"
   ]
  },
  {
   "cell_type": "code",
   "execution_count": 35,
   "id": "e0c6525a",
   "metadata": {},
   "outputs": [
    {
     "data": {
      "text/plain": [
       "'mohamed hany abdelatif'"
      ]
     },
     "execution_count": 35,
     "metadata": {},
     "output_type": "execute_result"
    }
   ],
   "source": [
    "name = '''mohamed\n",
    "hany\n",
    "abdelatif'''\n",
    "name1=name.replace(\"\\n\",\" \")\n",
    "name1\n"
   ]
  },
  {
   "cell_type": "markdown",
   "id": "80db5ae0",
   "metadata": {},
   "source": [
    "**11-Write a Python program to check whether a string starts with specified characters"
   ]
  },
  {
   "cell_type": "code",
   "execution_count": 36,
   "id": "0cc4e03e",
   "metadata": {},
   "outputs": [
    {
     "name": "stdout",
     "output_type": "stream",
     "text": [
      "Mohamed\n",
      "yes\n"
     ]
    }
   ],
   "source": [
    "name=input()\n",
    "specific='M'\n",
    "if name[0]==specific:\n",
    "    print(\"yes\")\n",
    "else:\n",
    "    print(\"no\")"
   ]
  },
  {
   "cell_type": "markdown",
   "id": "593a68db",
   "metadata": {},
   "source": [
    "**12- Write a Python program to add prefix text to all of the lines in a string"
   ]
  },
  {
   "cell_type": "code",
   "execution_count": 40,
   "id": "d2e46ada",
   "metadata": {},
   "outputs": [
    {
     "name": "stdout",
     "output_type": "stream",
     "text": [
      "Eng:mohamed\n",
      "Eng:andro\n",
      "Eng:abdelrahmen\n"
     ]
    }
   ],
   "source": [
    "prefex='''mohamed\n",
    "andro\n",
    "abdelrahmen'''\n",
    "line=prefex.splitlines()\n",
    "for i in line:\n",
    "    print (\"Eng:\"+i)"
   ]
  },
  {
   "cell_type": "code",
   "execution_count": null,
   "id": "7f8bb822",
   "metadata": {},
   "outputs": [],
   "source": []
  },
  {
   "cell_type": "markdown",
   "id": "86fa1543",
   "metadata": {},
   "source": [
    "**13-Write a Python program to print the following numbers up to 2 decimal places"
   ]
  },
  {
   "cell_type": "code",
   "execution_count": 45,
   "id": "cd4a9d89",
   "metadata": {},
   "outputs": [
    {
     "data": {
      "text/plain": [
       "1.46"
      ]
     },
     "execution_count": 45,
     "metadata": {},
     "output_type": "execute_result"
    }
   ],
   "source": [
    "number=1.4575895\n",
    "round(number,2)"
   ]
  },
  {
   "cell_type": "markdown",
   "id": "452c0ab0",
   "metadata": {},
   "source": [
    "**14-Write a Python program to print the following numbers up to 2 decimal places with a sign"
   ]
  },
  {
   "cell_type": "code",
   "execution_count": 46,
   "id": "73e82479",
   "metadata": {},
   "outputs": [
    {
     "name": "stdout",
     "output_type": "stream",
     "text": [
      "1.45\n"
     ]
    }
   ],
   "source": [
    "number=1.4575895\n",
    "num=str(number)\n",
    "print(num[0:4])"
   ]
  },
  {
   "cell_type": "markdown",
   "id": "32b1811a",
   "metadata": {},
   "source": [
    "**15-Write a Python program to display a number with a comma separator"
   ]
  },
  {
   "cell_type": "code",
   "execution_count": 48,
   "id": "f30fc0b6",
   "metadata": {},
   "outputs": [
    {
     "data": {
      "text/plain": [
       "'3,4'"
      ]
     },
     "execution_count": 48,
     "metadata": {},
     "output_type": "execute_result"
    }
   ],
   "source": [
    "num=3.4\n",
    "num1=str(num)\n",
    "number=num1.replace(\".\",\",\")\n",
    "number"
   ]
  },
  {
   "cell_type": "markdown",
   "id": "0477f487",
   "metadata": {},
   "source": [
    "**16-Write a Python program to reverse a string using 2 ways"
   ]
  },
  {
   "cell_type": "code",
   "execution_count": 49,
   "id": "aa8beec8",
   "metadata": {},
   "outputs": [
    {
     "name": "stdout",
     "output_type": "stream",
     "text": [
      "mohamed\n"
     ]
    },
    {
     "data": {
      "text/plain": [
       "'demahom'"
      ]
     },
     "execution_count": 49,
     "metadata": {},
     "output_type": "execute_result"
    }
   ],
   "source": [
    "string=input()\n",
    "''.join(reversed(string))"
   ]
  },
  {
   "cell_type": "markdown",
   "id": "5afc3166",
   "metadata": {},
   "source": [
    " **17-Write a Python program to count repeated characters in a string (hint:use dictionary)"
   ]
  },
  {
   "cell_type": "code",
   "execution_count": 60,
   "id": "515a469c",
   "metadata": {},
   "outputs": [
    {
     "data": {
      "text/plain": [
       "{'m': 2, 'o': 1, 'h': 2, 'a': 2, 'e': 1, 'd': 1, 'n': 1, 'y': 1}"
      ]
     },
     "execution_count": 60,
     "metadata": {},
     "output_type": "execute_result"
    }
   ],
   "source": [
    "name=\"mohamedhany\"\n",
    "ls =[]\n",
    "for i in name:\n",
    "    ls.append(i)\n",
    "dic = dict()\n",
    "for i in ls:\n",
    "    dic[i]=name.count(i)\n",
    "dic    "
   ]
  },
  {
   "cell_type": "markdown",
   "id": "ae14e4e5",
   "metadata": {},
   "source": [
    "**18-Write a Python program to find the first non-repeating character in a given string"
   ]
  },
  {
   "cell_type": "code",
   "execution_count": 61,
   "id": "d73778e5",
   "metadata": {},
   "outputs": [
    {
     "name": "stdout",
     "output_type": "stream",
     "text": [
      "c\n"
     ]
    }
   ],
   "source": [
    "stri = \"aabbvvcww\"\n",
    "for i in stri:\n",
    "    if stri.count(i)==1:\n",
    "        print(i)\n",
    "        "
   ]
  },
  {
   "cell_type": "markdown",
   "id": "3adf5669",
   "metadata": {},
   "source": [
    "**19-Write a Python program to remove spaces from a given string"
   ]
  },
  {
   "cell_type": "code",
   "execution_count": 63,
   "id": "b4f22602",
   "metadata": {},
   "outputs": [
    {
     "data": {
      "text/plain": [
       "'ali mohamed hany'"
      ]
     },
     "execution_count": 63,
     "metadata": {},
     "output_type": "execute_result"
    }
   ],
   "source": [
    "name= '''ali\n",
    "mohamed\n",
    "hany'''\n",
    "n=name.replace(\"\\n\",\" \")\n",
    "n"
   ]
  },
  {
   "cell_type": "markdown",
   "id": "734de60c",
   "metadata": {},
   "source": [
    "**20-Write a Python program to count the number of non-empty substrings of a given string"
   ]
  },
  {
   "cell_type": "code",
   "execution_count": 65,
   "id": "ef3f2274",
   "metadata": {},
   "outputs": [
    {
     "data": {
      "text/plain": [
       "21"
      ]
     },
     "execution_count": 65,
     "metadata": {},
     "output_type": "execute_result"
    }
   ],
   "source": [
    "def substring (str):\n",
    "    string=len(str)\n",
    "    return int (string*(string-1)/2)\n",
    "substring(\"mohamed\")"
   ]
  },
  {
   "cell_type": "markdown",
   "id": "509998e2",
   "metadata": {},
   "source": [
    "**21-write a Python program to swap first and last element of any list."
   ]
  },
  {
   "cell_type": "code",
   "execution_count": 66,
   "id": "68692d7f",
   "metadata": {},
   "outputs": [
    {
     "data": {
      "text/plain": [
       "['mohamed', 'omar', 'taha', 'ahmed']"
      ]
     },
     "execution_count": 66,
     "metadata": {},
     "output_type": "execute_result"
    }
   ],
   "source": [
    "l = [\"ahmed\",\"omar\",\"taha\",\"mohamed\"]\n",
    "l[-1],l[0]=l[0],l[-1]\n",
    "l"
   ]
  },
  {
   "cell_type": "markdown",
   "id": "959e0837",
   "metadata": {},
   "source": [
    "**22-Given a list in Python and provided the positions of the elements, write a program to swap the two elements in the list. (Input : List = [23, 65, 19, 90], pos1 = 1, pos2 = 3\n",
    "Output : [19, 65, 23, 90])"
   ]
  },
  {
   "cell_type": "code",
   "execution_count": 72,
   "id": "225d8c6d",
   "metadata": {},
   "outputs": [
    {
     "name": "stdout",
     "output_type": "stream",
     "text": [
      "1\n",
      "4\n",
      "[90, 65, 19, 23]\n"
     ]
    }
   ],
   "source": [
    "lis=[23,65,19,90]\n",
    "pos1=int(input())\n",
    "pos2=int(input())\n",
    "lis[pos1-1],lis[pos2-1]=lis[pos2-1],lis[pos1-1]\n",
    "print (lis)"
   ]
  },
  {
   "cell_type": "markdown",
   "id": "66fc6682",
   "metadata": {},
   "source": [
    "**23- search for the all ways to know the length of the list**"
   ]
  },
  {
   "cell_type": "code",
   "execution_count": 78,
   "id": "54bbe1b8",
   "metadata": {},
   "outputs": [
    {
     "name": "stdout",
     "output_type": "stream",
     "text": [
      "9\n",
      "9\n"
     ]
    }
   ],
   "source": [
    "List = [1,2,3,4,5,6,5,3,1]\n",
    "lis=len(List)\n",
    "print(lis)\n",
    "count=0\n",
    "for i in List:\n",
    "    count+=1\n",
    "print(count)    "
   ]
  },
  {
   "cell_type": "code",
   "execution_count": null,
   "id": "63ff8b43",
   "metadata": {},
   "outputs": [],
   "source": [
    "**24-write a Python code to find the Maximum number of list of numbers."
   ]
  },
  {
   "cell_type": "code",
   "execution_count": 79,
   "id": "15f342de",
   "metadata": {},
   "outputs": [
    {
     "data": {
      "text/plain": [
       "6"
      ]
     },
     "execution_count": 79,
     "metadata": {},
     "output_type": "execute_result"
    }
   ],
   "source": [
    "List = [1,2,3,4,5,6,5,3,1]\n",
    "max(List)"
   ]
  },
  {
   "cell_type": "code",
   "execution_count": null,
   "id": "1a89b9d3",
   "metadata": {},
   "outputs": [],
   "source": [
    "**25-write a Python code to find the Minimum number of list of numbers."
   ]
  },
  {
   "cell_type": "code",
   "execution_count": 80,
   "id": "21f8cbd6",
   "metadata": {},
   "outputs": [
    {
     "data": {
      "text/plain": [
       "1"
      ]
     },
     "execution_count": 80,
     "metadata": {},
     "output_type": "execute_result"
    }
   ],
   "source": [
    "List = [1,2,3,4,5,6,5,3,1]\n",
    "min(List)"
   ]
  },
  {
   "cell_type": "markdown",
   "id": "96822d96",
   "metadata": {},
   "source": [
    "**26-search for if an elem is existing in list"
   ]
  },
  {
   "cell_type": "code",
   "execution_count": 4,
   "id": "51ca5c9a",
   "metadata": {},
   "outputs": [
    {
     "name": "stdout",
     "output_type": "stream",
     "text": [
      "mohamed\n",
      "yes\n"
     ]
    }
   ],
   "source": [
    "name =[\"ahmed\",\"hamed\",\"mohamed\",\"hany\"]\n",
    "element=input()\n",
    "if element in name:\n",
    "    print(\"yes\")\n",
    "else:\n",
    "    print(\"No\")"
   ]
  },
  {
   "cell_type": "markdown",
   "id": "d9557da7",
   "metadata": {},
   "source": [
    "**27- clear python list using different ways"
   ]
  },
  {
   "cell_type": "code",
   "execution_count": 11,
   "id": "b69858a3",
   "metadata": {},
   "outputs": [
    {
     "data": {
      "text/plain": [
       "[]"
      ]
     },
     "execution_count": 11,
     "metadata": {},
     "output_type": "execute_result"
    }
   ],
   "source": [
    "List = [1,2,3,4,5,6]\n",
    "List.clear()\n",
    "List"
   ]
  },
  {
   "cell_type": "markdown",
   "id": "52160e88",
   "metadata": {},
   "source": [
    "**28-remove duplicated elements from a list"
   ]
  },
  {
   "cell_type": "code",
   "execution_count": 1,
   "id": "5e362228",
   "metadata": {
    "scrolled": true
   },
   "outputs": [
    {
     "data": {
      "text/plain": [
       "[1, 2, 3, 4, 5, 6]"
      ]
     },
     "execution_count": 1,
     "metadata": {},
     "output_type": "execute_result"
    }
   ],
   "source": [
    "List = [1,2,3,4,4,5,6,1,2,3,5,6]\n",
    "l=set(List)\n",
    "l=list(l)\n",
    "l"
   ]
  },
  {
   "cell_type": "markdown",
   "id": "282337f7",
   "metadata": {},
   "source": [
    "**29-Given list values and keys list, convert these values to key value pairs in form of list of dictionaries. (Input : test_list = [“Gfg”, 3, “is”, 8], key_list = [“name”, “id”]\n",
    "Output : [{‘name’: ‘Gfg’, ‘id’: 3}, {‘name’: ‘is’, ‘id’: 8}])"
   ]
  },
  {
   "cell_type": "code",
   "execution_count": 3,
   "id": "4d4e2d28",
   "metadata": {},
   "outputs": [
    {
     "name": "stdout",
     "output_type": "stream",
     "text": [
      "The constructed dictionary list : [{'name': 'Gfg', 'number': 3}, {'name': 'is', 'number': 8}]\n"
     ]
    }
   ],
   "source": [
    "test_list = [\"Gfg\", 3, \"is\", 8,]\n",
    "key_list = [\"name\", \"number\"]\n",
    "n = len(test_list)\n",
    "res = []\n",
    "for idx in range(0, n, 2):\n",
    "    res.append({key_list[0]: test_list[idx], key_list[1] : test_list[idx + 1]})\n",
    "print(\"The constructed dictionary list : \" + str(res))"
   ]
  },
  {
   "cell_type": "markdown",
   "id": "c26b6e9f",
   "metadata": {},
   "source": [
    "**30-write a python program to count unique values inside a list using different ways"
   ]
  },
  {
   "cell_type": "code",
   "execution_count": null,
   "id": "72132667",
   "metadata": {},
   "outputs": [],
   "source": [
    "lis=[1,2,3,4,5,3,4,5,32,2,3,4,3]\n",
    "l=set(lis)\n",
    "li=len(l)\n",
    "li"
   ]
  },
  {
   "cell_type": "markdown",
   "id": "fed6677c",
   "metadata": {},
   "source": [
    "**31-write a python program Extract all elements with Frequency greater than K (Input : test_list = [4, 6, 4, 3, 3, 4, 3, 4, 3, 8], K = 3 \n",
    "Output : [4, 3] )"
   ]
  },
  {
   "cell_type": "code",
   "execution_count": 2,
   "id": "d81f3f9d",
   "metadata": {},
   "outputs": [
    {
     "name": "stdout",
     "output_type": "stream",
     "text": [
      "3\n",
      "[4, 3]\n"
     ]
    }
   ],
   "source": [
    "List = [4, 6, 4, 3, 3, 4, 3, 4, 3, 8]\n",
    "k =int(input())\n",
    "l=[]\n",
    "for i in List:\n",
    "    freq=List.count(i)\n",
    "    if freq > k and i not in l:\n",
    "        l.append(i)\n",
    "print(l)    "
   ]
  },
  {
   "cell_type": "markdown",
   "id": "caca5224",
   "metadata": {},
   "source": [
    "**32-write a python program to find the Strongest Neighbour (Input: 1 2 2 3 4 5\n",
    "Output: 2 2 3 4 5)"
   ]
  },
  {
   "cell_type": "code",
   "execution_count": 5,
   "id": "39fbd9b2",
   "metadata": {},
   "outputs": [
    {
     "name": "stdout",
     "output_type": "stream",
     "text": [
      "please enter lenght for list:6\n",
      "[2, 2, 3, 4, 5]\n"
     ]
    }
   ],
   "source": [
    "n = int(input(\"please enter lenght for list:\"))\n",
    "def strong(l,n):\n",
    "    for i in range(0,n+1):\n",
    "        if l[i]<l[i+1]:\n",
    "            l.pop(i)\n",
    "            print(l)\n",
    "            break\n",
    "        else:\n",
    "            print(l)\n",
    "l=[1 ,2 ,2 ,3 ,4 ,5]          \n",
    "strong(l,n)"
   ]
  },
  {
   "cell_type": "markdown",
   "id": "a9fa8baf",
   "metadata": {},
   "source": [
    "**33-write a Python Program to print all Possible Combinations from the three Digits (Input: [1, 2, 3]\n",
    "Output:\n",
    "1 2 3 ##\n",
    "1 3 2 ##\n",
    "2 1 3 ##\n",
    "2 3 1 ##\n",
    "3 1 2 ##\n",
    "3 2 1)"
   ]
  },
  {
   "cell_type": "code",
   "execution_count": 6,
   "id": "8c520a76",
   "metadata": {},
   "outputs": [
    {
     "name": "stdout",
     "output_type": "stream",
     "text": [
      "1 2 3\n",
      "1 3 2\n",
      "2 1 3\n",
      "2 3 1\n",
      "3 1 2\n",
      "3 2 1\n"
     ]
    }
   ],
   "source": [
    "def comb(L): \n",
    "    for i in range(3):\n",
    "        for j in range(3):\n",
    "            for k in range(3):\n",
    "                if (i!=j and j!=k and i!=k):\n",
    "                    print(L[i], L[j], L[k])                     \n",
    "comb([1, 2, 3])"
   ]
  },
  {
   "cell_type": "markdown",
   "id": "5288bb89",
   "metadata": {},
   "source": [
    "**34-write a Python program to find all the Combinations in the list with the given condition (Input: test_list = [1,2,3] \n",
    "Output: \n",
    " [1], [1, 2], [1, 2, 3], [1, 3]\n",
    " [2], [2, 3], [3])"
   ]
  },
  {
   "cell_type": "code",
   "execution_count": 7,
   "id": "59b89646",
   "metadata": {},
   "outputs": [
    {
     "name": "stdout",
     "output_type": "stream",
     "text": [
      "[(), (1,), (2,), (3,), (1, 2), (1, 3), (2, 3), (1, 2, 3)]\n"
     ]
    }
   ],
   "source": [
    "from itertools import combinations\n",
    "\n",
    "List = [1, 2, 3]\n",
    "list_combinations = list()\n",
    "\n",
    "for n in range(len(List) + 1):\n",
    "    list_combinations += list(combinations(List, n))\n",
    "\n",
    "print(list_combinations)\n"
   ]
  },
  {
   "cell_type": "markdown",
   "id": "39973705",
   "metadata": {},
   "source": [
    "**35-write a Python program to get all unique combinations of two Lists (List_1 = [\"a\",\"b\"]\n",
    "List_2 = [1,2]\n",
    "Unique_combination = [[('a',1),('b',2)],[('a',2),('b',1)]] )"
   ]
  },
  {
   "cell_type": "code",
   "execution_count": 13,
   "id": "8c4ba22b",
   "metadata": {},
   "outputs": [
    {
     "name": "stdout",
     "output_type": "stream",
     "text": [
      "a 1\n",
      "a 2\n",
      "b 1\n",
      "b 2\n"
     ]
    }
   ],
   "source": [
    "List_1 = [\"a\",\"b\"] \n",
    "List_2 = [1,2]\n",
    "l=[]\n",
    "for i in List_1:\n",
    "    for j in List_2:\n",
    "        print (i,j)\n",
    "        "
   ]
  },
  {
   "cell_type": "code",
   "execution_count": 14,
   "id": "f1a284a7",
   "metadata": {},
   "outputs": [
    {
     "name": "stdout",
     "output_type": "stream",
     "text": [
      "[[('a', 1), ('b', 2)], [('b', 1), ('a', 2)]]\n"
     ]
    }
   ],
   "source": [
    "import itertools\n",
    "from itertools import permutations\n",
    " \n",
    "\n",
    "list_1 = [\"a\",\"b\"]\n",
    "list_2 = [1,2]\n",
    "\n",
    "unique_combinations = []\n",
    "\n",
    "permut = itertools.permutations(list_1, len(list_2))\n",
    "\n",
    "for comb in permut:\n",
    "    zipped = zip(comb, list_2)\n",
    "    unique_combinations.append(list(zipped))\n",
    " \n",
    "\n",
    "print(unique_combinations)"
   ]
  },
  {
   "cell_type": "markdown",
   "id": "25199af5",
   "metadata": {},
   "source": [
    "**36-Remove all the occurrences of an element from a list in Python (Input : 1 1 2 3 4 5 1 2 1 \n",
    "\n",
    "**Output : 2 3 4 5 2)"
   ]
  },
  {
   "cell_type": "code",
   "execution_count": 13,
   "id": "6dc4c2ba",
   "metadata": {},
   "outputs": [
    {
     "name": "stdout",
     "output_type": "stream",
     "text": [
      "[2, 3, 4, 5, 2]\n"
     ]
    }
   ],
   "source": [
    "\n",
    "List=[ 1, 1, 2, 3, 4, 5, 1, 2,1]\n",
    "item=1\n",
    "l=[]\n",
    "\n",
    "for i in List:\n",
    "    if i!=item:\n",
    "        l.append(i)\n",
    "        \n",
    "print(l)    \n",
    "\n",
    "      "
   ]
  },
  {
   "cell_type": "markdown",
   "id": "bf1a3c93",
   "metadata": {},
   "source": [
    "**37-write a python program to Replace index elements with elements in Other List (The original list 1 is : [‘Gfg’, ‘is’, ‘best’] The original list 2 is : [0, 1, 2, 1, 0, 0, 0, 2, 1, 1, 2, 0] The lists after index elements replacements is : [‘Gfg’, ‘is’, ‘best’, ‘is’, ‘Gfg’, ‘Gfg’, ‘Gfg’, ‘best’, ‘is’, ‘is’, ‘best’, ‘Gfg’])"
   ]
  },
  {
   "cell_type": "code",
   "execution_count": 21,
   "id": "fdd66a71",
   "metadata": {},
   "outputs": [
    {
     "name": "stdout",
     "output_type": "stream",
     "text": [
      "['Gfg', 'is', 'best', 'is', 'Gfg', 'Gfg', 'Gfg', 'best', 'is', 'is', 'best', 'Gfg']\n"
     ]
    }
   ],
   "source": [
    "list1= ['Gfg', 'is','best']\n",
    "list2 =  [0, 1, 2, 1, 0, 0, 0, 2, 1, 1, 2, 0]\n",
    "List=[]\n",
    "for i in list2:\n",
    "    if i==0:\n",
    "        i=list1[0]\n",
    "        List.append(i)\n",
    "    elif i==1:\n",
    "        i=list1[1]\n",
    "        List.append(i)\n",
    "    else:\n",
    "        i = list1[2]\n",
    "        List.append(i)\n",
    "   \n",
    "            \n",
    "print (List)            "
   ]
  },
  {
   "cell_type": "markdown",
   "id": "af0f56e8",
   "metadata": {},
   "source": [
    "**38- write python program to Retain records with N occurrences of K(Input : test_list = [(4, 5, 5, 4), (5, 4, 3)], K = 5, N = 2 \n",
    "Output : [(4, 5, 5, 4)]\n",
    "Input : test_list = [(4, 5, 5, 4), (5, 4, 3)], K = 5, N = 3 \n",
    "Output : [] )"
   ]
  },
  {
   "cell_type": "code",
   "execution_count": 36,
   "id": "67b06671",
   "metadata": {},
   "outputs": [
    {
     "name": "stdout",
     "output_type": "stream",
     "text": [
      "5\n",
      "3\n",
      "[]\n"
     ]
    }
   ],
   "source": [
    "test_list = [(4, 5, 5, 4), (5, 4, 3)]\n",
    "k=int(input())\n",
    "N=int(input())\n",
    "l=[]\n",
    "for i in test_list:\n",
    "    if i.count(k)==N:\n",
    "        l.append(i)\n",
    "print(l)    "
   ]
  },
  {
   "cell_type": "markdown",
   "id": "de76f183",
   "metadata": {},
   "source": [
    "**39-write a Python Program to Sort the list according to the column using lambda\n",
    "array = [[1, 3, 3], [2, 1, 2], [3, 2, 1]]\n",
    "Output :\n",
    "Sorted array specific to column 0, [[1, 3, 3], [2, 1, 2], [3, 2, 1]]\n",
    "Sorted array specific to column 1, [[2, 1, 2], [3, 2, 1], [1, 3, 3]]\n",
    "Sorted array specific to column 2, [[3, 2, 1], [2, 1, 2], [1, 3, 3]]"
   ]
  },
  {
   "cell_type": "code",
   "execution_count": 54,
   "id": "dc883308",
   "metadata": {},
   "outputs": [
    {
     "name": "stdout",
     "output_type": "stream",
     "text": [
      "1\n"
     ]
    },
    {
     "data": {
      "text/plain": [
       "[[2, 1, 2], [3, 2, 1], [1, 3, 3]]"
      ]
     },
     "execution_count": 54,
     "metadata": {},
     "output_type": "execute_result"
    }
   ],
   "source": [
    "array = [[1, 3, 3], [2, 1, 2], [3, 2, 1]]\n",
    "i=int(input())\n",
    "sorted_array=sorted(array, key=lambda index : index[i])\n",
    "sorted_array"
   ]
  },
  {
   "cell_type": "code",
   "execution_count": null,
   "id": "d2e7b31f",
   "metadata": {},
   "outputs": [],
   "source": [
    "**40- write a program to Sort Python Dictionaries by Key or Value\n",
    "Input:\n",
    "{'ravi': 10, 'rajnish': 9, 'sanjeev': 15, 'yash': 2, 'suraj': 32}\n",
    "\n",
    "Output: \n",
    "{'rajnish': 9, 'ravi': 10, 'sanjeev': 15, 'suraj': 32, 'yash': 2}"
   ]
  },
  {
   "cell_type": "code",
   "execution_count": 63,
   "id": "950a2732",
   "metadata": {},
   "outputs": [
    {
     "name": "stdout",
     "output_type": "stream",
     "text": [
      "{'rajnish': 9, 'ravi': 10, 'sanjeev': 15, 'suraj': 32, 'yash': 2}\n"
     ]
    }
   ],
   "source": [
    "myDict = {'ravi': 10, 'rajnish': 9,\n",
    "        'sanjeev': 15, 'yash': 2, 'suraj': 32}\n",
    " \n",
    "myKeys = list(myDict.keys())\n",
    "myKeys.sort()\n",
    "sorted_dict = {i: myDict[i] for i in myKeys}\n",
    " \n",
    "print(sorted_dict)"
   ]
  },
  {
   "cell_type": "markdown",
   "id": "ec63c23a",
   "metadata": {},
   "source": [
    "**41-write python program to Remove keys with Values Greater than K ( Including mixed values )\n",
    "nput : test_dict = {‘Gfg’ : 3, ‘is’ : 7, ‘best’ : 10, ‘for’ : 6, ‘geeks’ : ‘CS’},\n",
    "K = 7 \n",
    "Output : {‘Gfg’ : 3, ‘for’ : 6, ‘geeks’ : ‘CS’}"
   ]
  },
  {
   "cell_type": "code",
   "execution_count": 79,
   "id": "e39c3a40",
   "metadata": {},
   "outputs": [
    {
     "name": "stdout",
     "output_type": "stream",
     "text": [
      "7\n",
      "{'Gfg': 3, 'is': 7, 'for': 6, 'geeks': 'CS'}\n"
     ]
    }
   ],
   "source": [
    "test_dict = {'Gfg' : 3, 'is' : 7, 'best' : 10, 'for' : 6, 'geeks' : 'CS'}\n",
    "k=int (input())\n",
    "res = {}\n",
    "for key in test_dict:\n",
    "    if not (isinstance(test_dict[key], int) and test_dict[key] > k):\n",
    "        res[key] = test_dict[key]\n",
    "         \n",
    "print(res)"
   ]
  },
  {
   "cell_type": "markdown",
   "id": "f143f0fe",
   "metadata": {},
   "source": [
    "**42-Write a Python program to concatenate the following dictionaries to create a new one\n",
    "\n",
    "Sample Dictionary :\n",
    "dic1={1:10, 2:20}\n",
    "dic2={3:30, 4:40}\n",
    "dic3={5:50,6:60}\n",
    "Expected Result : {1: 10, 2: 20, 3: 30, 4: 40, 5: 50, 6: 60}"
   ]
  },
  {
   "cell_type": "code",
   "execution_count": 89,
   "id": "74ffdfea",
   "metadata": {},
   "outputs": [
    {
     "data": {
      "text/plain": [
       "{1: 10, 2: 20, 3: 30, 4: 40, 5: 50, 6: 60}"
      ]
     },
     "execution_count": 89,
     "metadata": {},
     "output_type": "execute_result"
    }
   ],
   "source": [
    "dic1={1:10, 2:20}\n",
    "dic2={3:30, 4:40}\n",
    "dic3={5:50,6:60} \n",
    "d = {**dic1, **dic2, **dic3}\n",
    "d"
   ]
  },
  {
   "cell_type": "markdown",
   "id": "fb04c93c",
   "metadata": {},
   "source": [
    "**43-Write a Python program to iterate over dictionaries using for loops"
   ]
  },
  {
   "cell_type": "code",
   "execution_count": 90,
   "id": "6aebc470",
   "metadata": {},
   "outputs": [
    {
     "name": "stdout",
     "output_type": "stream",
     "text": [
      "1 10\n",
      "2 20\n"
     ]
    }
   ],
   "source": [
    "dic1={1:10, 2:20}\n",
    "for key , value in dic1.items():\n",
    "    print(key,value)"
   ]
  },
  {
   "cell_type": "markdown",
   "id": "5f491a9d",
   "metadata": {},
   "source": [
    "**44- Write a Python script to merge two Python dictionaries"
   ]
  },
  {
   "cell_type": "code",
   "execution_count": 94,
   "id": "b8a14028",
   "metadata": {},
   "outputs": [
    {
     "name": "stdout",
     "output_type": "stream",
     "text": [
      "None\n",
      "{3: 30, 4: 40, 1: 10, 2: 20}\n"
     ]
    }
   ],
   "source": [
    "dic1={1:10, 2:20}\n",
    "dic2={3:30, 4:40}\n",
    "def Merge(dic1,dic2):\n",
    "    return dic2.update(dic1)\n",
    "print (Merge(dic1,dic2))\n",
    "print(dic2)"
   ]
  },
  {
   "cell_type": "markdown",
   "id": "216fc72d",
   "metadata": {},
   "source": [
    "**45-Write a Python program to get the maximum and minimum values of a dictionary values"
   ]
  },
  {
   "cell_type": "code",
   "execution_count": 96,
   "id": "d6883f5f",
   "metadata": {},
   "outputs": [
    {
     "name": "stdout",
     "output_type": "stream",
     "text": [
      "10\n",
      "40\n"
     ]
    }
   ],
   "source": [
    "dic={1:10, 2:20,3:30, 4:40}\n",
    "def minmum(dic):\n",
    "    min=10000000\n",
    "    for key , value in dic.items():\n",
    "        if value < min:\n",
    "            min=value\n",
    "    return  min     \n",
    "def maximum(dic):\n",
    "    max=0\n",
    "    for key,value in dic.items():\n",
    "        if value>max:\n",
    "            max=value\n",
    "    return max\n",
    "print(minmum(dic))\n",
    "print(maximum(dic))"
   ]
  },
  {
   "cell_type": "markdown",
   "id": "b6a53011",
   "metadata": {},
   "source": [
    "**46- Write a Python program to drop empty items from a given dictionary.\n",
    "Original Dictionary:\n",
    "{'c1': 'Red', 'c2': 'Green', 'c3': None}\n",
    "New Dictionary after dropping empty items:\n",
    "{'c1': 'Red', 'c2': 'Green'}"
   ]
  },
  {
   "cell_type": "code",
   "execution_count": 119,
   "id": "b5c6fecf",
   "metadata": {},
   "outputs": [
    {
     "data": {
      "text/plain": [
       "{'c1': 'Red', 'c2': 'Green'}"
      ]
     },
     "execution_count": 119,
     "metadata": {},
     "output_type": "execute_result"
    }
   ],
   "source": [
    "dic={'c1': 'Red', 'c2': 'Green', 'c3': None} \n",
    "dic1={}\n",
    "for key , value in dic.items():\n",
    "    if value != None:\n",
    "        dic1[key]=value\n",
    "dic1        "
   ]
  },
  {
   "cell_type": "markdown",
   "id": "46d718c7",
   "metadata": {},
   "source": [
    "**47-Write a Python program to create a tuple of numbers and print one item"
   ]
  },
  {
   "cell_type": "code",
   "execution_count": 120,
   "id": "13216ff5",
   "metadata": {},
   "outputs": [
    {
     "name": "stdout",
     "output_type": "stream",
     "text": [
      "1\n"
     ]
    }
   ],
   "source": [
    "mh=(1,2,3,4,5,5,6,7,8,8)\n",
    "print(mh[0])"
   ]
  },
  {
   "cell_type": "markdown",
   "id": "2be5b56b",
   "metadata": {},
   "source": [
    "**48-Write a Python program to unpack a tuple into several variables"
   ]
  },
  {
   "cell_type": "code",
   "execution_count": 122,
   "id": "595f44be",
   "metadata": {},
   "outputs": [
    {
     "name": "stdout",
     "output_type": "stream",
     "text": [
      "mohamed\n",
      "20000\n",
      "AIEngineering\n"
     ]
    }
   ],
   "source": [
    "A=(\"mohamed\",20000,\"AIEngineering\")\n",
    "(name,salary,work)=A\n",
    "print(name)\n",
    "print(salary)\n",
    "print(work)"
   ]
  },
  {
   "cell_type": "markdown",
   "id": "392388a7",
   "metadata": {},
   "source": [
    "**49-Write a Python program to add an item to a tuple"
   ]
  },
  {
   "cell_type": "code",
   "execution_count": 130,
   "id": "54cc092e",
   "metadata": {},
   "outputs": [
    {
     "data": {
      "text/plain": [
       "(1, 2, 3, 4, 5, 5, 6, 7, 8, 8, 10)"
      ]
     },
     "execution_count": 130,
     "metadata": {},
     "output_type": "execute_result"
    }
   ],
   "source": [
    "mh=(1,2,3,4,5,5,6,7,8,8)\n",
    "mh =list(mh)\n",
    "mh.append(10)\n",
    "mh =tuple(mh)\n",
    "mh"
   ]
  },
  {
   "cell_type": "markdown",
   "id": "3e8fd124",
   "metadata": {},
   "source": [
    "**50-Write a Python program to convert a tuple to a string"
   ]
  },
  {
   "cell_type": "code",
   "execution_count": 137,
   "id": "92a71ddc",
   "metadata": {},
   "outputs": [
    {
     "data": {
      "text/plain": [
       "'mohamed'"
      ]
     },
     "execution_count": 137,
     "metadata": {},
     "output_type": "execute_result"
    }
   ],
   "source": [
    "mh=('m','o','h','a','m','e','d')\n",
    "st=''\n",
    "for i in mh:\n",
    "    st=st+i\n",
    "    \n",
    "st\n"
   ]
  },
  {
   "cell_type": "markdown",
   "id": "f4f64ef4",
   "metadata": {},
   "source": [
    "**51-Write a Python program to convert a list to a tuple"
   ]
  },
  {
   "cell_type": "code",
   "execution_count": 138,
   "id": "210d56d3",
   "metadata": {},
   "outputs": [
    {
     "data": {
      "text/plain": [
       "(1, 2, 3, 4, 5, 6, 7)"
      ]
     },
     "execution_count": 138,
     "metadata": {},
     "output_type": "execute_result"
    }
   ],
   "source": [
    "list1=[1,2,3,4,5,6,7]\n",
    "mh=tuple(list1)\n",
    "mh"
   ]
  },
  {
   "cell_type": "markdown",
   "id": "b1e00ef7",
   "metadata": {},
   "source": [
    "**52-Write a Python program to reverse a tuple"
   ]
  },
  {
   "cell_type": "code",
   "execution_count": 149,
   "id": "f45bfdc7",
   "metadata": {},
   "outputs": [
    {
     "data": {
      "text/plain": [
       "('d', 'e', 'm', 'a', 'h', 'o', 'm')"
      ]
     },
     "execution_count": 149,
     "metadata": {},
     "output_type": "execute_result"
    }
   ],
   "source": [
    "mh=('m','o','h','a','m','e','d')\n",
    "mh1=''\n",
    "for i in mh:\n",
    "       mh1=mh1+i\n",
    "mh1=''.join(reversed(mh1))\n",
    "mh=tuple(mh1)\n",
    "mh"
   ]
  },
  {
   "cell_type": "markdown",
   "id": "3cd347d1",
   "metadata": {},
   "source": [
    "**53-Write a Python program to replace the last value of tuples in a list.\n",
    "Sample list: [(10, 20, 40), (40, 50, 60), (70, 80, 90)]\n",
    "Expected Output: [(10, 20, 100), (40, 50, 100), (70, 80, 100)]"
   ]
  },
  {
   "cell_type": "code",
   "execution_count": 161,
   "id": "3c4a2a4c",
   "metadata": {},
   "outputs": [
    {
     "name": "stdout",
     "output_type": "stream",
     "text": [
      "(10, 20, 100)\n",
      "(40, 50, 100)\n",
      "(70, 80, 100)\n"
     ]
    }
   ],
   "source": [
    "List= [(10, 20, 40), (40, 50, 60), (70, 80, 90)] \n",
    "for i in List:\n",
    "        print(i[:-1]+(100,))"
   ]
  },
  {
   "cell_type": "markdown",
   "id": "76bb7b39",
   "metadata": {},
   "source": [
    "**54-Write a Python program to convert a given string list to a tuple\n",
    "Original string: python 3.0\n",
    "<class 'str'>\n",
    "Convert the said string to a tuple:\n",
    "('p', 'y', 't', 'h', 'o', 'n', '3', '.', '0')"
   ]
  },
  {
   "cell_type": "code",
   "execution_count": 151,
   "id": "51951937",
   "metadata": {},
   "outputs": [
    {
     "data": {
      "text/plain": [
       "('p', 'y', 't', 'h', 'o', 'n', '3', '.', '0')"
      ]
     },
     "execution_count": 151,
     "metadata": {},
     "output_type": "execute_result"
    }
   ],
   "source": [
    "st='python3.0'\n",
    "mh=tuple(st)\n",
    "mh"
   ]
  },
  {
   "cell_type": "markdown",
   "id": "5a1d5d97",
   "metadata": {},
   "source": [
    "**55-Write a Python program to calculate the average value of the numbers in a given tuple of tuples"
   ]
  },
  {
   "cell_type": "code",
   "execution_count": 163,
   "id": "834e7992",
   "metadata": {},
   "outputs": [
    {
     "name": "stdout",
     "output_type": "stream",
     "text": [
      "3.0\n"
     ]
    }
   ],
   "source": [
    "mh =(1,2,3,4,5)\n",
    "sum=0\n",
    "count=0\n",
    "for i in mh:\n",
    "    sum=sum+i\n",
    "    count+=1\n",
    "avg=sum / count\n",
    "print(avg)"
   ]
  },
  {
   "cell_type": "markdown",
   "id": "51edab9c",
   "metadata": {},
   "source": [
    "**56-Write a Python program to add member(s) to a set."
   ]
  },
  {
   "cell_type": "code",
   "execution_count": 168,
   "id": "2b65df79",
   "metadata": {},
   "outputs": [
    {
     "data": {
      "text/plain": [
       "{1, 2, 3, 4, 5, 6}"
      ]
     },
     "execution_count": 168,
     "metadata": {},
     "output_type": "execute_result"
    }
   ],
   "source": [
    "s={1,2,3,4,5}\n",
    "s.add(6)\n",
    "s.\n",
    "s"
   ]
  },
  {
   "cell_type": "markdown",
   "id": "965590cc",
   "metadata": {},
   "source": [
    "**57-Write a Python program to remove an item from a set if it is present in the set."
   ]
  },
  {
   "cell_type": "code",
   "execution_count": 172,
   "id": "866bab28",
   "metadata": {},
   "outputs": [
    {
     "name": "stdout",
     "output_type": "stream",
     "text": [
      "5\n"
     ]
    },
    {
     "data": {
      "text/plain": [
       "{1, 2, 3, 4}"
      ]
     },
     "execution_count": 172,
     "metadata": {},
     "output_type": "execute_result"
    }
   ],
   "source": [
    "s={1,2,3,4,5}\n",
    "j=int(input())\n",
    "if j in s:\n",
    "    s.remove(j)\n",
    "s       "
   ]
  },
  {
   "cell_type": "markdown",
   "id": "2b7cfed1",
   "metadata": {},
   "source": [
    "**58-Write a Python program to create an intersection,union,difference and symmetric difference of sets"
   ]
  },
  {
   "cell_type": "code",
   "execution_count": 176,
   "id": "7f94b7fe",
   "metadata": {},
   "outputs": [
    {
     "name": "stdout",
     "output_type": "stream",
     "text": [
      "{5}\n",
      "{1, 2, 3, 4}\n",
      "{1, 2, 3, 4, 6, 7, 8, 9, 10}\n",
      "{1, 2, 3, 4, 5, 6, 7, 8, 9, 10}\n"
     ]
    }
   ],
   "source": [
    "s={1,2,3,4,5}\n",
    "s1={6,7,8,9,10,5}\n",
    "print(s.intersection(s1))\n",
    "print(s.difference(s1))\n",
    "print(s.symmetric_difference(s1))\n",
    "print(s.union(s1))"
   ]
  },
  {
   "cell_type": "markdown",
   "id": "b94931e2",
   "metadata": {},
   "source": [
    "**59-Write a Python program to find the maximum and minimum values in a set"
   ]
  },
  {
   "cell_type": "code",
   "execution_count": 178,
   "id": "203f9600",
   "metadata": {},
   "outputs": [
    {
     "name": "stdout",
     "output_type": "stream",
     "text": [
      "1\n",
      "5\n"
     ]
    }
   ],
   "source": [
    "s={1,2,3,4,5}\n",
    "def minmum (s):\n",
    "    min=1000000\n",
    "    for i in s:\n",
    "        if i < min:\n",
    "            min= i\n",
    "    return min\n",
    "def maximum (s):\n",
    "    max=0\n",
    "    for i in s:\n",
    "        if i > max:\n",
    "            max= i\n",
    "    return max\n",
    "print(minmum(s))\n",
    "print(maximum(s))"
   ]
  },
  {
   "cell_type": "markdown",
   "id": "255fd554",
   "metadata": {},
   "source": [
    "**60- Write a Python program that finds all pairs of elements in a list whose sum is equal to a given value."
   ]
  },
  {
   "cell_type": "code",
   "execution_count": 185,
   "id": "c2d94e1f",
   "metadata": {},
   "outputs": [
    {
     "name": "stdout",
     "output_type": "stream",
     "text": [
      "[(2, 6), (3, 5), (4, 4), (5, 3)]\n"
     ]
    }
   ],
   "source": [
    "list1=[2,3,4,5]\n",
    "list2=[3,4,5,6]\n",
    "target=8\n",
    "l=[]\n",
    "for i in range(len(list1)):\n",
    "    for j in range(len(list2)):\n",
    "        if list1[i]+list2[j]==target:\n",
    "            l.append((list1[i],list2[j]))\n",
    "            \n",
    "print(l)            "
   ]
  }
 ],
 "metadata": {
  "kernelspec": {
   "display_name": "Python 3 (ipykernel)",
   "language": "python",
   "name": "python3"
  },
  "language_info": {
   "codemirror_mode": {
    "name": "ipython",
    "version": 3
   },
   "file_extension": ".py",
   "mimetype": "text/x-python",
   "name": "python",
   "nbconvert_exporter": "python",
   "pygments_lexer": "ipython3",
   "version": "3.11.3"
  }
 },
 "nbformat": 4,
 "nbformat_minor": 5
}
