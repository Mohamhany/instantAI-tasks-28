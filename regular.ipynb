{
 "cells": [
  {
   "cell_type": "code",
   "execution_count": 93,
   "id": "95e7bdc3",
   "metadata": {},
   "outputs": [
    {
     "name": "stdout",
     "output_type": "stream",
     "text": [
      "['Mr.Mohamed Hany 30312241800993 01098435577 mh1228392@gmail.com Mr.Andro Ashraf 01098235536 andro@gmail.com Mr.Abdelrahman Ali 01124853288 abdelrahman@gmail.com\\n']\n"
     ]
    },
    {
     "data": {
      "text/plain": [
       "'Mr.Mohamed Hany 30312241800993 01098435577 mh1228392@gmail.com Mr.Andro Ashraf 01098235536 andro@gmail.com Mr.Abdelrahman Ali 01124853288 abdelrahman@gmail.com\\n'"
      ]
     },
     "execution_count": 93,
     "metadata": {},
     "output_type": "execute_result"
    }
   ],
   "source": [
    "f=open('Mohamed.txt','r')\n",
    "file=f.readlines()\n",
    "print(file)\n",
    "r=''.join(file)\n",
    "r"
   ]
  },
  {
   "cell_type": "code",
   "execution_count": 94,
   "id": "75b1112b",
   "metadata": {},
   "outputs": [
    {
     "name": "stdout",
     "output_type": "stream",
     "text": [
      "<re.Match object; span=(3, 6), match='Moh'>\n"
     ]
    }
   ],
   "source": [
    "import re\n",
    "pattern=re.compile(r\"Moh\")\n",
    "matches=pattern.finditer(r)\n",
    "for match in matches:\n",
    "    print (match)"
   ]
  },
  {
   "cell_type": "code",
   "execution_count": 95,
   "id": "ffb8c9ec",
   "metadata": {},
   "outputs": [
    {
     "name": "stdout",
     "output_type": "stream",
     "text": [
      "<re.Match object; span=(17, 28), match='03122418009'>\n",
      "<re.Match object; span=(31, 42), match='01098435577'>\n",
      "<re.Match object; span=(79, 90), match='01098235536'>\n",
      "<re.Match object; span=(126, 137), match='01124853288'>\n",
      "<re.Match object; span=(43, 62), match='mh1228392@gmail.com'>\n",
      "<re.Match object; span=(91, 106), match='andro@gmail.com'>\n",
      "<re.Match object; span=(138, 159), match='abdelrahman@gmail.com'>\n"
     ]
    }
   ],
   "source": [
    "pattern=re.compile(r\"[010011012]\\d{10}\")\n",
    "matches=pattern.finditer(r)\n",
    "for match in matches:\n",
    "    print (match)\n",
    "pattern=re.compile(r\"[a-zA-Z0-9_.+-]+@[a-zA-Z0-9-]+\\.[a-zA-Z0-9-.]+\")\n",
    "matches=pattern.finditer(r)\n",
    "for match in matches:\n",
    "    print (match)\n"
   ]
  },
  {
   "cell_type": "code",
   "execution_count": 96,
   "id": "d1637917",
   "metadata": {},
   "outputs": [
    {
     "name": "stdout",
     "output_type": "stream",
     "text": [
      "<re.Match object; span=(0, 15), match='Mr.Mohamed Hany'>\n",
      "<re.Match object; span=(63, 78), match='Mr.Andro Ashraf'>\n",
      "<re.Match object; span=(107, 125), match='Mr.Abdelrahman Ali'>\n"
     ]
    }
   ],
   "source": [
    "pattern=re.compile(r\"Mr\\.?[A-Z]?\\w+\\s\\w+\")\n",
    "matches=pattern.finditer(r)\n",
    "for match in matches:\n",
    "    print (match)\n",
    "    "
   ]
  },
  {
   "cell_type": "code",
   "execution_count": 101,
   "id": "7c243b1e",
   "metadata": {},
   "outputs": [
    {
     "name": "stdout",
     "output_type": "stream",
     "text": [
      "<re.Match object; span=(16, 30), match='30312241800993'>\n"
     ]
    }
   ],
   "source": [
    "pattern=re.compile(r\"[3]03+\\d+\")\n",
    "matches=pattern.finditer(r)\n",
    "for match in matches:\n",
    "    print (match)"
   ]
  }
 ],
 "metadata": {
  "kernelspec": {
   "display_name": "Python 3 (ipykernel)",
   "language": "python",
   "name": "python3"
  },
  "language_info": {
   "codemirror_mode": {
    "name": "ipython",
    "version": 3
   },
   "file_extension": ".py",
   "mimetype": "text/x-python",
   "name": "python",
   "nbconvert_exporter": "python",
   "pygments_lexer": "ipython3",
   "version": "3.11.3"
  }
 },
 "nbformat": 4,
 "nbformat_minor": 5
}
